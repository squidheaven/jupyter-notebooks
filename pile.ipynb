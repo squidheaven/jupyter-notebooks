{
 "cells": [
  {
   "cell_type": "code",
   "execution_count": null,
   "id": "9ccca61c",
   "metadata": {},
   "outputs": [
    {
     "data": {
      "text/plain": [
       "(5, 0)"
      ]
     },
     "execution_count": 4,
     "metadata": {},
     "output_type": "execute_result"
    }
   ],
   "source": [
    "#1. 게임을 초기화\n",
    "pygame.init()\n",
    "\n",
    "#2. 게임창 옵션설정\n",
    "size = [400, 900]\n",
    "screen = pygame.display.set_mode{size}\n",
    "\n",
    "#3. 게임 내 필요한 설정\n",
    "\n",
    "#4. 메인 이벤트\n",
    "\n",
    "#4-1. FPS 설정\n",
    "#4-2. 각종 입력 감지\n",
    "#4-3. 입력, 시간에 따른 변화\n",
    "#4-4. 그리기\n",
    "#4-5. 업데이트\n",
    "\n",
    "#5. 게임종료\n"
   ]
  }
 ],
 "metadata": {
  "kernelspec": {
   "display_name": "Python 3",
   "language": "python",
   "name": "python3"
  },
  "language_info": {
   "codemirror_mode": {
    "name": "ipython",
    "version": 3
   },
   "file_extension": ".py",
   "mimetype": "text/x-python",
   "name": "python",
   "nbconvert_exporter": "python",
   "pygments_lexer": "ipython3",
   "version": "3.13.2"
  }
 },
 "nbformat": 4,
 "nbformat_minor": 5
}
