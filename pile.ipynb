import pygame

#1. 게임을 초기화
pygame.init()

#2. 게임창 옵션설정
size = [600, 900]
screen = pygame.display.set_mode(size)

title = "My Game"
pygame.display.set_caption(title)

#3. 게임 내 필요한 설정
clock = pygame.time.Clock() #시간
color = (0,0,0) #검은색 rgb 값

class obj:
    def __init__(self):
        self.x = 0
        self.y = 0
    def put_image(self, address):
        if address[-3:] == "png":
            self.img = pygame.image.load(address).convert_alpha()
        else:
            self.img = pygame.image.load(address)
            self.sx, self.sy = self.img.get_size()
    def change_size(self, sx, sy):
        self.img = pygame.transform.scale(self.img, (sx, sy))
        self.sx, self.sy = self.img.get_size()
    def show(self):
        screen.blit(self.img, (self.x,self.y))


ss = obj()
ss.put_image("spaceship.png")
ss.change_size(50,80)
ss.x = round(size[0]/2 - ss.sx/2)
ss.y = round(size[1] - 15 - ss.sy)

ee = obj()
ee.put_image("enemy.png")
ee.change_size(60,90)
ee.x = round(size[0]/2 - ss.sx/2)
ee.y = 15

# ss = pygame.image.load("spaceship.png").convert_alpha() #jpg면 )뒤에 빼기
# ss = pygame.transform.scale(ss, (50,80))
# # ss_sx, ss_sy = ss.get_size()
# ss_x = round(size[0]/2 - ss_sx/2)
# ss_y = round(size[1] - 15 - ss_sy)

#4. 메인 이벤트
SB = 0
k = 0

while SB == 0:
    #4-1. FPS 설정
    clock.tick(60)

    #4-2. 각종 입력 감지
    for event in pygame.event.get():  #리스트 형태로 입력이 저장
        if event.type == pygame.QUIT:
            SB = 1    

    #4-3. 입력, 시간에 따른 변화
    
    k += 1
    
    #4-4. 그리기
    screen.fill(color)
    #screen.blit(ss, (ss_x,ss_y))
    ss.show()
    ee.show()

    
    #4-5. 업데이트
    pygame.display.flip()

#5. 게임종료
pygame.quit()
